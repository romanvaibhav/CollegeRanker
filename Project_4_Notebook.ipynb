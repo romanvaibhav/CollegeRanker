{
  "cells": [
    {
      "cell_type": "markdown",
      "metadata": {
        "id": "view-in-github",
        "colab_type": "text"
      },
      "source": [
        "<a href=\"https://colab.research.google.com/github/romanvaibhav/CollegeRanker/blob/main/Project_4_Notebook.ipynb\" target=\"_parent\"><img src=\"https://colab.research.google.com/assets/colab-badge.svg\" alt=\"Open In Colab\"/></a>"
      ]
    },
    {
      "cell_type": "markdown",
      "metadata": {
        "id": "pWRv1h4WMweb"
      },
      "source": [
        "# <center> Gold Price Prediction"
      ]
    },
    {
      "cell_type": "markdown",
      "metadata": {
        "id": "a4hicRRbMwes"
      },
      "source": [
        "## Import Libraries"
      ]
    },
    {
      "cell_type": "code",
      "execution_count": 24,
      "metadata": {
        "id": "wwHBaTvwMwev"
      },
      "outputs": [],
      "source": [
        "import pandas as pd\n",
        "import numpy as np\n",
        "%matplotlib inline\n",
        "import warnings\n",
        "warnings.filterwarnings('ignore')\n",
        "from sklearn.linear_model import LinearRegression"
      ]
    },
    {
      "cell_type": "code",
      "execution_count": null,
      "metadata": {
        "id": "4R-a6uO_Mwey"
      },
      "outputs": [],
      "source": [
        ""
      ]
    },
    {
      "cell_type": "markdown",
      "metadata": {
        "id": "Rn6Dxj8EMwez"
      },
      "source": [
        "## Task 1: Initial Data Exploration"
      ]
    },
    {
      "cell_type": "code",
      "execution_count": 25,
      "metadata": {
        "id": "486jTOA8Mwe1"
      },
      "outputs": [],
      "source": [
        "df = pd.read_csv(\"gold_price.csv\", parse_dates=True, index_col='Date')\n"
      ]
    },
    {
      "cell_type": "code",
      "execution_count": 26,
      "metadata": {
        "id": "LCcnvw7VMwe2",
        "colab": {
          "base_uri": "https://localhost:8080/",
          "height": 237
        },
        "outputId": "7627cb3b-2135-4e69-bf23-bb6542a3ecb7"
      },
      "outputs": [
        {
          "output_type": "execute_result",
          "data": {
            "text/plain": [
              "            USD (AM)  USD (PM)  GBP (AM)  GBP (PM)  EURO (AM)  EURO (PM)\n",
              "Date                                                                    \n",
              "2001-01-02    272.80    271.10   183.026   181.617    288.677    287.334\n",
              "2001-01-03    269.00    267.15   178.916   177.390    281.823    281.655\n",
              "2001-01-04    268.75    267.10   178.869   178.352    282.538    282.049\n",
              "2001-01-05    268.00    267.40   178.488   178.148    280.775    280.882\n",
              "2001-01-08    268.60    268.30   178.769   178.664    282.410    282.481"
            ],
            "text/html": [
              "\n",
              "  <div id=\"df-48c82f2a-989a-4360-905d-c61eb751c336\">\n",
              "    <div class=\"colab-df-container\">\n",
              "      <div>\n",
              "<style scoped>\n",
              "    .dataframe tbody tr th:only-of-type {\n",
              "        vertical-align: middle;\n",
              "    }\n",
              "\n",
              "    .dataframe tbody tr th {\n",
              "        vertical-align: top;\n",
              "    }\n",
              "\n",
              "    .dataframe thead th {\n",
              "        text-align: right;\n",
              "    }\n",
              "</style>\n",
              "<table border=\"1\" class=\"dataframe\">\n",
              "  <thead>\n",
              "    <tr style=\"text-align: right;\">\n",
              "      <th></th>\n",
              "      <th>USD (AM)</th>\n",
              "      <th>USD (PM)</th>\n",
              "      <th>GBP (AM)</th>\n",
              "      <th>GBP (PM)</th>\n",
              "      <th>EURO (AM)</th>\n",
              "      <th>EURO (PM)</th>\n",
              "    </tr>\n",
              "    <tr>\n",
              "      <th>Date</th>\n",
              "      <th></th>\n",
              "      <th></th>\n",
              "      <th></th>\n",
              "      <th></th>\n",
              "      <th></th>\n",
              "      <th></th>\n",
              "    </tr>\n",
              "  </thead>\n",
              "  <tbody>\n",
              "    <tr>\n",
              "      <th>2001-01-02</th>\n",
              "      <td>272.80</td>\n",
              "      <td>271.10</td>\n",
              "      <td>183.026</td>\n",
              "      <td>181.617</td>\n",
              "      <td>288.677</td>\n",
              "      <td>287.334</td>\n",
              "    </tr>\n",
              "    <tr>\n",
              "      <th>2001-01-03</th>\n",
              "      <td>269.00</td>\n",
              "      <td>267.15</td>\n",
              "      <td>178.916</td>\n",
              "      <td>177.390</td>\n",
              "      <td>281.823</td>\n",
              "      <td>281.655</td>\n",
              "    </tr>\n",
              "    <tr>\n",
              "      <th>2001-01-04</th>\n",
              "      <td>268.75</td>\n",
              "      <td>267.10</td>\n",
              "      <td>178.869</td>\n",
              "      <td>178.352</td>\n",
              "      <td>282.538</td>\n",
              "      <td>282.049</td>\n",
              "    </tr>\n",
              "    <tr>\n",
              "      <th>2001-01-05</th>\n",
              "      <td>268.00</td>\n",
              "      <td>267.40</td>\n",
              "      <td>178.488</td>\n",
              "      <td>178.148</td>\n",
              "      <td>280.775</td>\n",
              "      <td>280.882</td>\n",
              "    </tr>\n",
              "    <tr>\n",
              "      <th>2001-01-08</th>\n",
              "      <td>268.60</td>\n",
              "      <td>268.30</td>\n",
              "      <td>178.769</td>\n",
              "      <td>178.664</td>\n",
              "      <td>282.410</td>\n",
              "      <td>282.481</td>\n",
              "    </tr>\n",
              "  </tbody>\n",
              "</table>\n",
              "</div>\n",
              "      <button class=\"colab-df-convert\" onclick=\"convertToInteractive('df-48c82f2a-989a-4360-905d-c61eb751c336')\"\n",
              "              title=\"Convert this dataframe to an interactive table.\"\n",
              "              style=\"display:none;\">\n",
              "        \n",
              "  <svg xmlns=\"http://www.w3.org/2000/svg\" height=\"24px\"viewBox=\"0 0 24 24\"\n",
              "       width=\"24px\">\n",
              "    <path d=\"M0 0h24v24H0V0z\" fill=\"none\"/>\n",
              "    <path d=\"M18.56 5.44l.94 2.06.94-2.06 2.06-.94-2.06-.94-.94-2.06-.94 2.06-2.06.94zm-11 1L8.5 8.5l.94-2.06 2.06-.94-2.06-.94L8.5 2.5l-.94 2.06-2.06.94zm10 10l.94 2.06.94-2.06 2.06-.94-2.06-.94-.94-2.06-.94 2.06-2.06.94z\"/><path d=\"M17.41 7.96l-1.37-1.37c-.4-.4-.92-.59-1.43-.59-.52 0-1.04.2-1.43.59L10.3 9.45l-7.72 7.72c-.78.78-.78 2.05 0 2.83L4 21.41c.39.39.9.59 1.41.59.51 0 1.02-.2 1.41-.59l7.78-7.78 2.81-2.81c.8-.78.8-2.07 0-2.86zM5.41 20L4 18.59l7.72-7.72 1.47 1.35L5.41 20z\"/>\n",
              "  </svg>\n",
              "      </button>\n",
              "      \n",
              "  <style>\n",
              "    .colab-df-container {\n",
              "      display:flex;\n",
              "      flex-wrap:wrap;\n",
              "      gap: 12px;\n",
              "    }\n",
              "\n",
              "    .colab-df-convert {\n",
              "      background-color: #E8F0FE;\n",
              "      border: none;\n",
              "      border-radius: 50%;\n",
              "      cursor: pointer;\n",
              "      display: none;\n",
              "      fill: #1967D2;\n",
              "      height: 32px;\n",
              "      padding: 0 0 0 0;\n",
              "      width: 32px;\n",
              "    }\n",
              "\n",
              "    .colab-df-convert:hover {\n",
              "      background-color: #E2EBFA;\n",
              "      box-shadow: 0px 1px 2px rgba(60, 64, 67, 0.3), 0px 1px 3px 1px rgba(60, 64, 67, 0.15);\n",
              "      fill: #174EA6;\n",
              "    }\n",
              "\n",
              "    [theme=dark] .colab-df-convert {\n",
              "      background-color: #3B4455;\n",
              "      fill: #D2E3FC;\n",
              "    }\n",
              "\n",
              "    [theme=dark] .colab-df-convert:hover {\n",
              "      background-color: #434B5C;\n",
              "      box-shadow: 0px 1px 3px 1px rgba(0, 0, 0, 0.15);\n",
              "      filter: drop-shadow(0px 1px 2px rgba(0, 0, 0, 0.3));\n",
              "      fill: #FFFFFF;\n",
              "    }\n",
              "  </style>\n",
              "\n",
              "      <script>\n",
              "        const buttonEl =\n",
              "          document.querySelector('#df-48c82f2a-989a-4360-905d-c61eb751c336 button.colab-df-convert');\n",
              "        buttonEl.style.display =\n",
              "          google.colab.kernel.accessAllowed ? 'block' : 'none';\n",
              "\n",
              "        async function convertToInteractive(key) {\n",
              "          const element = document.querySelector('#df-48c82f2a-989a-4360-905d-c61eb751c336');\n",
              "          const dataTable =\n",
              "            await google.colab.kernel.invokeFunction('convertToInteractive',\n",
              "                                                     [key], {});\n",
              "          if (!dataTable) return;\n",
              "\n",
              "          const docLinkHtml = 'Like what you see? Visit the ' +\n",
              "            '<a target=\"_blank\" href=https://colab.research.google.com/notebooks/data_table.ipynb>data table notebook</a>'\n",
              "            + ' to learn more about interactive tables.';\n",
              "          element.innerHTML = '';\n",
              "          dataTable['output_type'] = 'display_data';\n",
              "          await google.colab.output.renderOutput(dataTable, element);\n",
              "          const docLink = document.createElement('div');\n",
              "          docLink.innerHTML = docLinkHtml;\n",
              "          element.appendChild(docLink);\n",
              "        }\n",
              "      </script>\n",
              "    </div>\n",
              "  </div>\n",
              "  "
            ]
          },
          "metadata": {},
          "execution_count": 26
        }
      ],
      "source": [
        "df.head()"
      ]
    },
    {
      "cell_type": "code",
      "source": [
        "df.tail()"
      ],
      "metadata": {
        "colab": {
          "base_uri": "https://localhost:8080/",
          "height": 237
        },
        "id": "sV1Wo4do0FWk",
        "outputId": "f3638415-e6c3-4847-c392-b7d7a67008f3"
      },
      "execution_count": 27,
      "outputs": [
        {
          "output_type": "execute_result",
          "data": {
            "text/plain": [
              "            USD (AM)  USD (PM)  GBP (AM)  GBP (PM)  EURO (AM)  EURO (PM)\n",
              "Date                                                                    \n",
              "2019-08-27   1531.85   1532.95   1250.91   1247.51    1378.97    1380.88\n",
              "2019-08-28   1541.75   1537.15   1263.31   1258.77    1389.89    1387.43\n",
              "2019-08-29   1536.65   1540.20   1260.51   1262.96    1387.29    1392.03\n",
              "2019-08-30   1526.55   1528.40   1253.14   1251.15    1382.75    1383.51\n",
              "2019-09-02   1523.35   1525.95   1260.42   1265.01    1388.69    1391.51"
            ],
            "text/html": [
              "\n",
              "  <div id=\"df-35a176b2-7303-455a-8a8f-78f2aa637b0c\">\n",
              "    <div class=\"colab-df-container\">\n",
              "      <div>\n",
              "<style scoped>\n",
              "    .dataframe tbody tr th:only-of-type {\n",
              "        vertical-align: middle;\n",
              "    }\n",
              "\n",
              "    .dataframe tbody tr th {\n",
              "        vertical-align: top;\n",
              "    }\n",
              "\n",
              "    .dataframe thead th {\n",
              "        text-align: right;\n",
              "    }\n",
              "</style>\n",
              "<table border=\"1\" class=\"dataframe\">\n",
              "  <thead>\n",
              "    <tr style=\"text-align: right;\">\n",
              "      <th></th>\n",
              "      <th>USD (AM)</th>\n",
              "      <th>USD (PM)</th>\n",
              "      <th>GBP (AM)</th>\n",
              "      <th>GBP (PM)</th>\n",
              "      <th>EURO (AM)</th>\n",
              "      <th>EURO (PM)</th>\n",
              "    </tr>\n",
              "    <tr>\n",
              "      <th>Date</th>\n",
              "      <th></th>\n",
              "      <th></th>\n",
              "      <th></th>\n",
              "      <th></th>\n",
              "      <th></th>\n",
              "      <th></th>\n",
              "    </tr>\n",
              "  </thead>\n",
              "  <tbody>\n",
              "    <tr>\n",
              "      <th>2019-08-27</th>\n",
              "      <td>1531.85</td>\n",
              "      <td>1532.95</td>\n",
              "      <td>1250.91</td>\n",
              "      <td>1247.51</td>\n",
              "      <td>1378.97</td>\n",
              "      <td>1380.88</td>\n",
              "    </tr>\n",
              "    <tr>\n",
              "      <th>2019-08-28</th>\n",
              "      <td>1541.75</td>\n",
              "      <td>1537.15</td>\n",
              "      <td>1263.31</td>\n",
              "      <td>1258.77</td>\n",
              "      <td>1389.89</td>\n",
              "      <td>1387.43</td>\n",
              "    </tr>\n",
              "    <tr>\n",
              "      <th>2019-08-29</th>\n",
              "      <td>1536.65</td>\n",
              "      <td>1540.20</td>\n",
              "      <td>1260.51</td>\n",
              "      <td>1262.96</td>\n",
              "      <td>1387.29</td>\n",
              "      <td>1392.03</td>\n",
              "    </tr>\n",
              "    <tr>\n",
              "      <th>2019-08-30</th>\n",
              "      <td>1526.55</td>\n",
              "      <td>1528.40</td>\n",
              "      <td>1253.14</td>\n",
              "      <td>1251.15</td>\n",
              "      <td>1382.75</td>\n",
              "      <td>1383.51</td>\n",
              "    </tr>\n",
              "    <tr>\n",
              "      <th>2019-09-02</th>\n",
              "      <td>1523.35</td>\n",
              "      <td>1525.95</td>\n",
              "      <td>1260.42</td>\n",
              "      <td>1265.01</td>\n",
              "      <td>1388.69</td>\n",
              "      <td>1391.51</td>\n",
              "    </tr>\n",
              "  </tbody>\n",
              "</table>\n",
              "</div>\n",
              "      <button class=\"colab-df-convert\" onclick=\"convertToInteractive('df-35a176b2-7303-455a-8a8f-78f2aa637b0c')\"\n",
              "              title=\"Convert this dataframe to an interactive table.\"\n",
              "              style=\"display:none;\">\n",
              "        \n",
              "  <svg xmlns=\"http://www.w3.org/2000/svg\" height=\"24px\"viewBox=\"0 0 24 24\"\n",
              "       width=\"24px\">\n",
              "    <path d=\"M0 0h24v24H0V0z\" fill=\"none\"/>\n",
              "    <path d=\"M18.56 5.44l.94 2.06.94-2.06 2.06-.94-2.06-.94-.94-2.06-.94 2.06-2.06.94zm-11 1L8.5 8.5l.94-2.06 2.06-.94-2.06-.94L8.5 2.5l-.94 2.06-2.06.94zm10 10l.94 2.06.94-2.06 2.06-.94-2.06-.94-.94-2.06-.94 2.06-2.06.94z\"/><path d=\"M17.41 7.96l-1.37-1.37c-.4-.4-.92-.59-1.43-.59-.52 0-1.04.2-1.43.59L10.3 9.45l-7.72 7.72c-.78.78-.78 2.05 0 2.83L4 21.41c.39.39.9.59 1.41.59.51 0 1.02-.2 1.41-.59l7.78-7.78 2.81-2.81c.8-.78.8-2.07 0-2.86zM5.41 20L4 18.59l7.72-7.72 1.47 1.35L5.41 20z\"/>\n",
              "  </svg>\n",
              "      </button>\n",
              "      \n",
              "  <style>\n",
              "    .colab-df-container {\n",
              "      display:flex;\n",
              "      flex-wrap:wrap;\n",
              "      gap: 12px;\n",
              "    }\n",
              "\n",
              "    .colab-df-convert {\n",
              "      background-color: #E8F0FE;\n",
              "      border: none;\n",
              "      border-radius: 50%;\n",
              "      cursor: pointer;\n",
              "      display: none;\n",
              "      fill: #1967D2;\n",
              "      height: 32px;\n",
              "      padding: 0 0 0 0;\n",
              "      width: 32px;\n",
              "    }\n",
              "\n",
              "    .colab-df-convert:hover {\n",
              "      background-color: #E2EBFA;\n",
              "      box-shadow: 0px 1px 2px rgba(60, 64, 67, 0.3), 0px 1px 3px 1px rgba(60, 64, 67, 0.15);\n",
              "      fill: #174EA6;\n",
              "    }\n",
              "\n",
              "    [theme=dark] .colab-df-convert {\n",
              "      background-color: #3B4455;\n",
              "      fill: #D2E3FC;\n",
              "    }\n",
              "\n",
              "    [theme=dark] .colab-df-convert:hover {\n",
              "      background-color: #434B5C;\n",
              "      box-shadow: 0px 1px 3px 1px rgba(0, 0, 0, 0.15);\n",
              "      filter: drop-shadow(0px 1px 2px rgba(0, 0, 0, 0.3));\n",
              "      fill: #FFFFFF;\n",
              "    }\n",
              "  </style>\n",
              "\n",
              "      <script>\n",
              "        const buttonEl =\n",
              "          document.querySelector('#df-35a176b2-7303-455a-8a8f-78f2aa637b0c button.colab-df-convert');\n",
              "        buttonEl.style.display =\n",
              "          google.colab.kernel.accessAllowed ? 'block' : 'none';\n",
              "\n",
              "        async function convertToInteractive(key) {\n",
              "          const element = document.querySelector('#df-35a176b2-7303-455a-8a8f-78f2aa637b0c');\n",
              "          const dataTable =\n",
              "            await google.colab.kernel.invokeFunction('convertToInteractive',\n",
              "                                                     [key], {});\n",
              "          if (!dataTable) return;\n",
              "\n",
              "          const docLinkHtml = 'Like what you see? Visit the ' +\n",
              "            '<a target=\"_blank\" href=https://colab.research.google.com/notebooks/data_table.ipynb>data table notebook</a>'\n",
              "            + ' to learn more about interactive tables.';\n",
              "          element.innerHTML = '';\n",
              "          dataTable['output_type'] = 'display_data';\n",
              "          await google.colab.output.renderOutput(dataTable, element);\n",
              "          const docLink = document.createElement('div');\n",
              "          docLink.innerHTML = docLinkHtml;\n",
              "          element.appendChild(docLink);\n",
              "        }\n",
              "      </script>\n",
              "    </div>\n",
              "  </div>\n",
              "  "
            ]
          },
          "metadata": {},
          "execution_count": 27
        }
      ]
    },
    {
      "cell_type": "code",
      "source": [
        "df.info()"
      ],
      "metadata": {
        "colab": {
          "base_uri": "https://localhost:8080/"
        },
        "id": "Epv81Hne0IeS",
        "outputId": "5cebbbbe-6975-4b17-f750-28208dd75e96"
      },
      "execution_count": 28,
      "outputs": [
        {
          "output_type": "stream",
          "name": "stdout",
          "text": [
            "<class 'pandas.core.frame.DataFrame'>\n",
            "DatetimeIndex: 4718 entries, 2001-01-02 to 2019-09-02\n",
            "Data columns (total 6 columns):\n",
            " #   Column     Non-Null Count  Dtype  \n",
            "---  ------     --------------  -----  \n",
            " 0   USD (AM)   4718 non-null   float64\n",
            " 1   USD (PM)   4682 non-null   float64\n",
            " 2   GBP (AM)   4718 non-null   float64\n",
            " 3   GBP (PM)   4682 non-null   float64\n",
            " 4   EURO (AM)  4718 non-null   float64\n",
            " 5   EURO (PM)  4682 non-null   float64\n",
            "dtypes: float64(6)\n",
            "memory usage: 258.0 KB\n"
          ]
        }
      ]
    },
    {
      "cell_type": "code",
      "source": [
        "df.describe()"
      ],
      "metadata": {
        "colab": {
          "base_uri": "https://localhost:8080/",
          "height": 300
        },
        "id": "KRkUHaZ40LfD",
        "outputId": "b68383b1-eaab-493b-c09e-d445ae87fd5d"
      },
      "execution_count": 29,
      "outputs": [
        {
          "output_type": "execute_result",
          "data": {
            "text/plain": [
              "          USD (AM)     USD (PM)     GBP (AM)     GBP (PM)    EURO (AM)  \\\n",
              "count  4718.000000  4682.000000  4718.000000  4682.000000  4718.000000   \n",
              "mean    959.990812   959.728684   625.068432   624.921846   773.892791   \n",
              "std     449.456217   449.487106   324.491391   324.544149   351.555806   \n",
              "min     256.700000   255.950000   176.572000   176.441000   276.711000   \n",
              "25%     449.112500   448.612500   244.576750   244.463500   361.393500   \n",
              "50%    1113.125000  1112.275000   717.145000   716.210500   874.354500   \n",
              "75%    1293.750000  1294.225000   939.065500   939.266500  1085.967750   \n",
              "max    1896.500000  1895.000000  1265.900000  1265.010000  1389.890000   \n",
              "\n",
              "         EURO (PM)  \n",
              "count  4682.000000  \n",
              "mean    773.843716  \n",
              "std     351.696708  \n",
              "min     277.667000  \n",
              "25%     361.338750  \n",
              "50%     875.141500  \n",
              "75%    1085.816250  \n",
              "max    1392.030000  "
            ],
            "text/html": [
              "\n",
              "  <div id=\"df-ca835ab8-8673-4e09-917b-e84e643c58a1\">\n",
              "    <div class=\"colab-df-container\">\n",
              "      <div>\n",
              "<style scoped>\n",
              "    .dataframe tbody tr th:only-of-type {\n",
              "        vertical-align: middle;\n",
              "    }\n",
              "\n",
              "    .dataframe tbody tr th {\n",
              "        vertical-align: top;\n",
              "    }\n",
              "\n",
              "    .dataframe thead th {\n",
              "        text-align: right;\n",
              "    }\n",
              "</style>\n",
              "<table border=\"1\" class=\"dataframe\">\n",
              "  <thead>\n",
              "    <tr style=\"text-align: right;\">\n",
              "      <th></th>\n",
              "      <th>USD (AM)</th>\n",
              "      <th>USD (PM)</th>\n",
              "      <th>GBP (AM)</th>\n",
              "      <th>GBP (PM)</th>\n",
              "      <th>EURO (AM)</th>\n",
              "      <th>EURO (PM)</th>\n",
              "    </tr>\n",
              "  </thead>\n",
              "  <tbody>\n",
              "    <tr>\n",
              "      <th>count</th>\n",
              "      <td>4718.000000</td>\n",
              "      <td>4682.000000</td>\n",
              "      <td>4718.000000</td>\n",
              "      <td>4682.000000</td>\n",
              "      <td>4718.000000</td>\n",
              "      <td>4682.000000</td>\n",
              "    </tr>\n",
              "    <tr>\n",
              "      <th>mean</th>\n",
              "      <td>959.990812</td>\n",
              "      <td>959.728684</td>\n",
              "      <td>625.068432</td>\n",
              "      <td>624.921846</td>\n",
              "      <td>773.892791</td>\n",
              "      <td>773.843716</td>\n",
              "    </tr>\n",
              "    <tr>\n",
              "      <th>std</th>\n",
              "      <td>449.456217</td>\n",
              "      <td>449.487106</td>\n",
              "      <td>324.491391</td>\n",
              "      <td>324.544149</td>\n",
              "      <td>351.555806</td>\n",
              "      <td>351.696708</td>\n",
              "    </tr>\n",
              "    <tr>\n",
              "      <th>min</th>\n",
              "      <td>256.700000</td>\n",
              "      <td>255.950000</td>\n",
              "      <td>176.572000</td>\n",
              "      <td>176.441000</td>\n",
              "      <td>276.711000</td>\n",
              "      <td>277.667000</td>\n",
              "    </tr>\n",
              "    <tr>\n",
              "      <th>25%</th>\n",
              "      <td>449.112500</td>\n",
              "      <td>448.612500</td>\n",
              "      <td>244.576750</td>\n",
              "      <td>244.463500</td>\n",
              "      <td>361.393500</td>\n",
              "      <td>361.338750</td>\n",
              "    </tr>\n",
              "    <tr>\n",
              "      <th>50%</th>\n",
              "      <td>1113.125000</td>\n",
              "      <td>1112.275000</td>\n",
              "      <td>717.145000</td>\n",
              "      <td>716.210500</td>\n",
              "      <td>874.354500</td>\n",
              "      <td>875.141500</td>\n",
              "    </tr>\n",
              "    <tr>\n",
              "      <th>75%</th>\n",
              "      <td>1293.750000</td>\n",
              "      <td>1294.225000</td>\n",
              "      <td>939.065500</td>\n",
              "      <td>939.266500</td>\n",
              "      <td>1085.967750</td>\n",
              "      <td>1085.816250</td>\n",
              "    </tr>\n",
              "    <tr>\n",
              "      <th>max</th>\n",
              "      <td>1896.500000</td>\n",
              "      <td>1895.000000</td>\n",
              "      <td>1265.900000</td>\n",
              "      <td>1265.010000</td>\n",
              "      <td>1389.890000</td>\n",
              "      <td>1392.030000</td>\n",
              "    </tr>\n",
              "  </tbody>\n",
              "</table>\n",
              "</div>\n",
              "      <button class=\"colab-df-convert\" onclick=\"convertToInteractive('df-ca835ab8-8673-4e09-917b-e84e643c58a1')\"\n",
              "              title=\"Convert this dataframe to an interactive table.\"\n",
              "              style=\"display:none;\">\n",
              "        \n",
              "  <svg xmlns=\"http://www.w3.org/2000/svg\" height=\"24px\"viewBox=\"0 0 24 24\"\n",
              "       width=\"24px\">\n",
              "    <path d=\"M0 0h24v24H0V0z\" fill=\"none\"/>\n",
              "    <path d=\"M18.56 5.44l.94 2.06.94-2.06 2.06-.94-2.06-.94-.94-2.06-.94 2.06-2.06.94zm-11 1L8.5 8.5l.94-2.06 2.06-.94-2.06-.94L8.5 2.5l-.94 2.06-2.06.94zm10 10l.94 2.06.94-2.06 2.06-.94-2.06-.94-.94-2.06-.94 2.06-2.06.94z\"/><path d=\"M17.41 7.96l-1.37-1.37c-.4-.4-.92-.59-1.43-.59-.52 0-1.04.2-1.43.59L10.3 9.45l-7.72 7.72c-.78.78-.78 2.05 0 2.83L4 21.41c.39.39.9.59 1.41.59.51 0 1.02-.2 1.41-.59l7.78-7.78 2.81-2.81c.8-.78.8-2.07 0-2.86zM5.41 20L4 18.59l7.72-7.72 1.47 1.35L5.41 20z\"/>\n",
              "  </svg>\n",
              "      </button>\n",
              "      \n",
              "  <style>\n",
              "    .colab-df-container {\n",
              "      display:flex;\n",
              "      flex-wrap:wrap;\n",
              "      gap: 12px;\n",
              "    }\n",
              "\n",
              "    .colab-df-convert {\n",
              "      background-color: #E8F0FE;\n",
              "      border: none;\n",
              "      border-radius: 50%;\n",
              "      cursor: pointer;\n",
              "      display: none;\n",
              "      fill: #1967D2;\n",
              "      height: 32px;\n",
              "      padding: 0 0 0 0;\n",
              "      width: 32px;\n",
              "    }\n",
              "\n",
              "    .colab-df-convert:hover {\n",
              "      background-color: #E2EBFA;\n",
              "      box-shadow: 0px 1px 2px rgba(60, 64, 67, 0.3), 0px 1px 3px 1px rgba(60, 64, 67, 0.15);\n",
              "      fill: #174EA6;\n",
              "    }\n",
              "\n",
              "    [theme=dark] .colab-df-convert {\n",
              "      background-color: #3B4455;\n",
              "      fill: #D2E3FC;\n",
              "    }\n",
              "\n",
              "    [theme=dark] .colab-df-convert:hover {\n",
              "      background-color: #434B5C;\n",
              "      box-shadow: 0px 1px 3px 1px rgba(0, 0, 0, 0.15);\n",
              "      filter: drop-shadow(0px 1px 2px rgba(0, 0, 0, 0.3));\n",
              "      fill: #FFFFFF;\n",
              "    }\n",
              "  </style>\n",
              "\n",
              "      <script>\n",
              "        const buttonEl =\n",
              "          document.querySelector('#df-ca835ab8-8673-4e09-917b-e84e643c58a1 button.colab-df-convert');\n",
              "        buttonEl.style.display =\n",
              "          google.colab.kernel.accessAllowed ? 'block' : 'none';\n",
              "\n",
              "        async function convertToInteractive(key) {\n",
              "          const element = document.querySelector('#df-ca835ab8-8673-4e09-917b-e84e643c58a1');\n",
              "          const dataTable =\n",
              "            await google.colab.kernel.invokeFunction('convertToInteractive',\n",
              "                                                     [key], {});\n",
              "          if (!dataTable) return;\n",
              "\n",
              "          const docLinkHtml = 'Like what you see? Visit the ' +\n",
              "            '<a target=\"_blank\" href=https://colab.research.google.com/notebooks/data_table.ipynb>data table notebook</a>'\n",
              "            + ' to learn more about interactive tables.';\n",
              "          element.innerHTML = '';\n",
              "          dataTable['output_type'] = 'display_data';\n",
              "          await google.colab.output.renderOutput(dataTable, element);\n",
              "          const docLink = document.createElement('div');\n",
              "          docLink.innerHTML = docLinkHtml;\n",
              "          element.appendChild(docLink);\n",
              "        }\n",
              "      </script>\n",
              "    </div>\n",
              "  </div>\n",
              "  "
            ]
          },
          "metadata": {},
          "execution_count": 29
        }
      ]
    },
    {
      "cell_type": "markdown",
      "metadata": {
        "id": "whRj_PWcMwe3"
      },
      "source": [
        "## Task 2: Create Train & Test Sets"
      ]
    },
    {
      "cell_type": "code",
      "source": [
        "df['Return'] = df['USD (PM)'].pct_change() * 100\n",
        "\n"
      ],
      "metadata": {
        "id": "rrEj1f9Q0Hwt"
      },
      "execution_count": 35,
      "outputs": []
    },
    {
      "cell_type": "code",
      "source": [
        "df['Lagged_Return'] = df.Return.shift()\n"
      ],
      "metadata": {
        "id": "9ZVX2PEv09w8"
      },
      "execution_count": 36,
      "outputs": []
    },
    {
      "cell_type": "code",
      "source": [
        "df = df.dropna()"
      ],
      "metadata": {
        "id": "_TdyaH5p0-A3"
      },
      "execution_count": 37,
      "outputs": []
    },
    {
      "cell_type": "code",
      "execution_count": 38,
      "metadata": {
        "id": "Gmo4efFPMwe4"
      },
      "outputs": [],
      "source": [
        "train = df['2001':'2018']\n"
      ]
    },
    {
      "cell_type": "code",
      "source": [
        "test = df['2019']"
      ],
      "metadata": {
        "id": "s4fJpLhh1Fy4"
      },
      "execution_count": 39,
      "outputs": []
    },
    {
      "cell_type": "code",
      "execution_count": 40,
      "metadata": {
        "id": "z2qIaWjDMwe5"
      },
      "outputs": [],
      "source": [
        "X_train = train[\"Lagged_Return\"].to_frame()\n"
      ]
    },
    {
      "cell_type": "code",
      "source": [
        "y_train = train[\"Return\"]\n"
      ],
      "metadata": {
        "id": "nViEAOWA1Np6"
      },
      "execution_count": 41,
      "outputs": []
    },
    {
      "cell_type": "code",
      "source": [
        "X_test = test[\"Lagged_Return\"].to_frame()\n"
      ],
      "metadata": {
        "id": "eVfC0lZT1P4I"
      },
      "execution_count": 42,
      "outputs": []
    },
    {
      "cell_type": "code",
      "execution_count": 43,
      "metadata": {
        "id": "aX-t1eqHMwe6"
      },
      "outputs": [],
      "source": [
        "y_test = test[\"Return\"]"
      ]
    },
    {
      "cell_type": "code",
      "execution_count": 45,
      "metadata": {
        "id": "NZRcknxcMwe8"
      },
      "outputs": [],
      "source": [
        "model = LinearRegression()"
      ]
    },
    {
      "cell_type": "code",
      "source": [
        "model.fit(X_train, y_train)"
      ],
      "metadata": {
        "colab": {
          "base_uri": "https://localhost:8080/"
        },
        "id": "wwDtWTQ71obJ",
        "outputId": "de6eade2-87be-4ad4-ab24-074a4451b6f4"
      },
      "execution_count": 46,
      "outputs": [
        {
          "output_type": "execute_result",
          "data": {
            "text/plain": [
              "LinearRegression()"
            ]
          },
          "metadata": {},
          "execution_count": 46
        }
      ]
    },
    {
      "cell_type": "code",
      "source": [
        "predictions = model.predict(X_test)"
      ],
      "metadata": {
        "id": "wDeUytOL1w-L"
      },
      "execution_count": 47,
      "outputs": []
    },
    {
      "cell_type": "markdown",
      "metadata": {
        "id": "5WoSTq94Mwe7"
      },
      "source": [
        "## Task 3: Develop Models & Predictions"
      ]
    },
    {
      "cell_type": "code",
      "execution_count": 49,
      "metadata": {
        "id": "hk-hgimcMwe9"
      },
      "outputs": [],
      "source": [
        "out_of_sample_results = y_test.to_frame()"
      ]
    },
    {
      "cell_type": "code",
      "execution_count": 50,
      "metadata": {
        "id": "VJFdG6e2Mwe9"
      },
      "outputs": [],
      "source": [
        "out_of_sample_results[\"Out-of-Sample Predictions\"] = model.predict(X_test)"
      ]
    },
    {
      "cell_type": "code",
      "source": [
        "out_of_sample_results.plot(subplots=True, title='Gold prices, USD')\n",
        "plt.show()\n"
      ],
      "metadata": {
        "colab": {
          "base_uri": "https://localhost:8080/",
          "height": 306
        },
        "id": "jnAvcCH62Bhm",
        "outputId": "fcd89005-4f8c-4273-83ab-74ba22e58a07"
      },
      "execution_count": 53,
      "outputs": [
        {
          "output_type": "display_data",
          "data": {
            "text/plain": [
              "<Figure size 432x288 with 2 Axes>"
            ],
            "image/png": "[encoded data removed]"
          },
          "metadata": {
            "needs_background": "light"
          }
        }
      ]
    },
    {
      "cell_type": "code",
      "source": [
        ""
      ],
      "metadata": {
        "id": "FJxTISaE2BrG"
      },
      "execution_count": 52,
      "outputs": []
    },
    {
      "cell_type": "code",
      "source": [
        ""
      ],
      "metadata": {
        "id": "vDs9UnMM2VKe"
      },
      "execution_count": null,
      "outputs": []
    }
  ],
  "metadata": {
    "kernelspec": {
      "display_name": "Python 3",
      "language": "python",
      "name": "python3"
    },
    "language_info": {
      "codemirror_mode": {
        "name": "ipython",
        "version": 3
      },
      "file_extension": ".py",
      "mimetype": "text/x-python",
      "name": "python",
      "nbconvert_exporter": "python",
      "pygments_lexer": "ipython3",
      "version": "3.7.4"
    },
    "colab": {
      "name": "Project_4 Notebook.ipynb",
      "provenance": [],
      "include_colab_link": true
    }
  },
  "nbformat": 4,
  "nbformat_minor": 0
}